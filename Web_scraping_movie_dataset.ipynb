{
  "nbformat": 4,
  "nbformat_minor": 0,
  "metadata": {
    "colab": {
      "name": "Web scraping movie dataset.ipynb",
      "provenance": [],
      "authorship_tag": "ABX9TyNHxXuNe1WemZsRxYtGFNut",
      "include_colab_link": true
    },
    "kernelspec": {
      "name": "python3",
      "display_name": "Python 3"
    },
    "language_info": {
      "name": "python"
    }
  },
  "cells": [
    {
      "cell_type": "markdown",
      "metadata": {
        "id": "view-in-github",
        "colab_type": "text"
      },
      "source": [
        "<a href=\"https://colab.research.google.com/github/illiyas-sha/Web-Scrapping-IMDB/blob/main/Web_scraping_movie_dataset.ipynb\" target=\"_parent\"><img src=\"https://colab.research.google.com/assets/colab-badge.svg\" alt=\"Open In Colab\"/></a>"
      ]
    },
    {
      "cell_type": "markdown",
      "metadata": {
        "id": "aLDHAbOX97jN"
      },
      "source": [
        "# Web Scrapping from Movie data set\n",
        "\n",
        "www.themoviedb.org\n"
      ]
    },
    {
      "cell_type": "markdown",
      "metadata": {
        "id": "Vsl86dK4EEWp"
      },
      "source": [
        "We're going to scrape https://www.themoviedb.org/movie\n"
      ]
    },
    {
      "cell_type": "markdown",
      "metadata": {
        "id": "sRiI-kaWEERA"
      },
      "source": [
        "OUTLINE:\n",
        "\n",
        "\n",
        "we are going to scrape the titles of the movie first\n"
      ]
    },
    {
      "cell_type": "markdown",
      "metadata": {
        "id": "RkgVfoQL96bz"
      },
      "source": [
        "## Use the request library to download the web pages"
      ]
    },
    {
      "cell_type": "code",
      "metadata": {
        "colab": {
          "base_uri": "https://localhost:8080/"
        },
        "id": "pCFZ0tBfEfet",
        "outputId": "42dd4c62-4d89-4681-8f4e-971db62e93dc"
      },
      "source": [
        "! pip install requests"
      ],
      "execution_count": 1,
      "outputs": [
        {
          "output_type": "stream",
          "name": "stdout",
          "text": [
            "Requirement already satisfied: requests in /usr/local/lib/python3.7/dist-packages (2.23.0)\n",
            "Requirement already satisfied: urllib3!=1.25.0,!=1.25.1,<1.26,>=1.21.1 in /usr/local/lib/python3.7/dist-packages (from requests) (1.24.3)\n",
            "Requirement already satisfied: chardet<4,>=3.0.2 in /usr/local/lib/python3.7/dist-packages (from requests) (3.0.4)\n",
            "Requirement already satisfied: idna<3,>=2.5 in /usr/local/lib/python3.7/dist-packages (from requests) (2.10)\n",
            "Requirement already satisfied: certifi>=2017.4.17 in /usr/local/lib/python3.7/dist-packages (from requests) (2021.5.30)\n"
          ]
        }
      ]
    },
    {
      "cell_type": "code",
      "metadata": {
        "id": "wbRUboEeEfkB"
      },
      "source": [
        "import requests"
      ],
      "execution_count": 2,
      "outputs": []
    },
    {
      "cell_type": "code",
      "metadata": {
        "id": "X-CBRu4KEfm0"
      },
      "source": [
        "movie_url = 'https://www.imdb.com/india/top-rated-indian-movies/?pf_rd_m=A2FGELUUNOQJNL&pf_rd_p=2e9dfa9b-3e4d-4d39-acd2-8af11f252a59&pf_rd_r=CN2E2V5N35C5S12WGE35&pf_rd_s=right-5&pf_rd_t=15506&pf_rd_i=moviemeter&ref_=chtmvm_india_tr_rhs_1'"
      ],
      "execution_count": 3,
      "outputs": []
    },
    {
      "cell_type": "code",
      "metadata": {
        "id": "gTorgDq8EfsT"
      },
      "source": [
        "#Download the web pages (response)\n",
        "response = requests.get(movie_url)"
      ],
      "execution_count": 4,
      "outputs": []
    },
    {
      "cell_type": "code",
      "metadata": {
        "colab": {
          "base_uri": "https://localhost:8080/"
        },
        "id": "PuYkPdH-GEhG",
        "outputId": "b9236d23-1012-45c5-ebca-9b54016a3ecf"
      },
      "source": [
        "response.status_code"
      ],
      "execution_count": 5,
      "outputs": [
        {
          "output_type": "execute_result",
          "data": {
            "text/plain": [
              "200"
            ]
          },
          "metadata": {},
          "execution_count": 5
        }
      ]
    },
    {
      "cell_type": "code",
      "metadata": {
        "colab": {
          "base_uri": "https://localhost:8080/"
        },
        "id": "ctPB_rMZGEZR",
        "outputId": "b83a945e-872a-46de-fbc8-13a733f0fa3f"
      },
      "source": [
        "#contents of the page\n",
        "len(response.text)"
      ],
      "execution_count": 6,
      "outputs": [
        {
          "output_type": "execute_result",
          "data": {
            "text/plain": [
              "537798"
            ]
          },
          "metadata": {},
          "execution_count": 6
        }
      ]
    },
    {
      "cell_type": "code",
      "metadata": {
        "id": "jnJ90HYPGENJ"
      },
      "source": [
        "page_contents=response.text"
      ],
      "execution_count": 7,
      "outputs": []
    },
    {
      "cell_type": "code",
      "metadata": {
        "colab": {
          "base_uri": "https://localhost:8080/",
          "height": 181
        },
        "id": "aK54VMt5GEKh",
        "outputId": "7344c14f-4044-43ef-af2b-1ba8237a8a8d"
      },
      "source": [
        "page_contents[:1000]"
      ],
      "execution_count": 8,
      "outputs": [
        {
          "output_type": "execute_result",
          "data": {
            "application/vnd.google.colaboratory.intrinsic+json": {
              "type": "string"
            },
            "text/plain": [
              "'\\n\\n\\n<!DOCTYPE html>\\n<html\\n    xmlns:og=\"http://ogp.me/ns#\"\\n    xmlns:fb=\"http://www.facebook.com/2008/fbml\">\\n    <head>\\n         \\n\\n        <meta charset=\"utf-8\">\\n        <meta http-equiv=\"X-UA-Compatible\" content=\"IE=edge\">\\n\\n    \\n    \\n    \\n\\n    \\n    \\n    \\n\\n            <style>\\n                body#styleguide-v2 {\\n                    background: no-repeat fixed center top #000;\\n                }\\n            </style>\\n        <style>\\n            body#styleguide-v2 #root {\\n                box-shadow: none;\\n            }\\n        </style>\\n\\n\\n\\n        <script type=\"text/javascript\">var IMDbTimer={starttime: new Date().getTime(),pt:\\'java\\'};</script>\\n\\n<script>\\n    if (typeof uet == \\'function\\') {\\n      uet(\"bb\", \"LoadTitle\", {wb: 1});\\n    }\\n</script>\\n  <script>(function(t){ (t.events = t.events || {})[\"csm_head_pre_title\"] = new Date().getTime(); })(IMDbTimer);</script>\\n        <title>Top Rated Indian Movies - IMDb</title>\\n  <script>(function(t){ (t.events = t.events || {})[\"csm_head_post_title\"] ='"
            ]
          },
          "metadata": {},
          "execution_count": 8
        }
      ]
    },
    {
      "cell_type": "code",
      "metadata": {
        "id": "71-YOtfIKXFq"
      },
      "source": [
        "with open('webpage.html', 'w') as f:\n",
        "    f.write(page_contents)"
      ],
      "execution_count": 9,
      "outputs": []
    },
    {
      "cell_type": "code",
      "metadata": {
        "id": "8H12agACKXDH"
      },
      "source": [
        ""
      ],
      "execution_count": 9,
      "outputs": []
    },
    {
      "cell_type": "code",
      "metadata": {
        "id": "mdPGAtaoKWvI"
      },
      "source": [
        ""
      ],
      "execution_count": 9,
      "outputs": []
    },
    {
      "cell_type": "markdown",
      "metadata": {
        "id": "FnP2E1-pEf4b"
      },
      "source": [
        "## Use Beautiful Soup to parse and extract information"
      ]
    },
    {
      "cell_type": "code",
      "metadata": {
        "colab": {
          "base_uri": "https://localhost:8080/"
        },
        "id": "Jl2kU1eVEpHL",
        "outputId": "5bf6439f-c477-46cd-f024-41f2912175d2"
      },
      "source": [
        "!pip install beautifulsoup4 --upgrade"
      ],
      "execution_count": 10,
      "outputs": [
        {
          "output_type": "stream",
          "name": "stdout",
          "text": [
            "Requirement already satisfied: beautifulsoup4 in /usr/local/lib/python3.7/dist-packages (4.6.3)\n",
            "Collecting beautifulsoup4\n",
            "  Downloading beautifulsoup4-4.10.0-py3-none-any.whl (97 kB)\n",
            "\u001b[K     |████████████████████████████████| 97 kB 3.2 MB/s \n",
            "\u001b[?25hCollecting soupsieve>1.2\n",
            "  Downloading soupsieve-2.2.1-py3-none-any.whl (33 kB)\n",
            "Installing collected packages: soupsieve, beautifulsoup4\n",
            "  Attempting uninstall: beautifulsoup4\n",
            "    Found existing installation: beautifulsoup4 4.6.3\n",
            "    Uninstalling beautifulsoup4-4.6.3:\n",
            "      Successfully uninstalled beautifulsoup4-4.6.3\n",
            "Successfully installed beautifulsoup4-4.10.0 soupsieve-2.2.1\n"
          ]
        }
      ]
    },
    {
      "cell_type": "code",
      "metadata": {
        "id": "L-96ycirEpKE"
      },
      "source": [
        "from bs4 import BeautifulSoup"
      ],
      "execution_count": 11,
      "outputs": []
    },
    {
      "cell_type": "code",
      "metadata": {
        "id": "aKJ88Y8kEpMu"
      },
      "source": [
        "#parsing\n",
        "doc = BeautifulSoup(page_contents, 'html.parser')"
      ],
      "execution_count": 12,
      "outputs": []
    },
    {
      "cell_type": "code",
      "metadata": {
        "id": "XAIMl4xIEpPj"
      },
      "source": [
        "selection_class = 'secondaryInfo'\n",
        "\n",
        "lister = doc.find_all('div', attrs= {'class': 'lister'})"
      ],
      "execution_count": 13,
      "outputs": []
    },
    {
      "cell_type": "code",
      "metadata": {
        "colab": {
          "base_uri": "https://localhost:8080/"
        },
        "id": "RJYLEjysNhov",
        "outputId": "929c1d6f-618b-4d10-fc20-7118fa0a9d79"
      },
      "source": [
        "len(lister)"
      ],
      "execution_count": 14,
      "outputs": [
        {
          "output_type": "execute_result",
          "data": {
            "text/plain": [
              "1"
            ]
          },
          "metadata": {},
          "execution_count": 14
        }
      ]
    },
    {
      "cell_type": "code",
      "metadata": {
        "id": "0fqJ1ikfcH27",
        "colab": {
          "base_uri": "https://localhost:8080/",
          "height": 171
        },
        "outputId": "b60d6906-1afd-4697-9c88-572974848e76"
      },
      "source": [
        "topic_title_tags"
      ],
      "execution_count": 16,
      "outputs": [
        {
          "output_type": "error",
          "ename": "NameError",
          "evalue": "ignored",
          "traceback": [
            "\u001b[0;31m---------------------------------------------------------------------------\u001b[0m",
            "\u001b[0;31mNameError\u001b[0m                                 Traceback (most recent call last)",
            "\u001b[0;32m<ipython-input-16-dc8914287960>\u001b[0m in \u001b[0;36m<module>\u001b[0;34m()\u001b[0m\n\u001b[0;32m----> 1\u001b[0;31m \u001b[0mtopic_title_tags\u001b[0m\u001b[0;34m\u001b[0m\u001b[0;34m\u001b[0m\u001b[0m\n\u001b[0m",
            "\u001b[0;31mNameError\u001b[0m: name 'topic_title_tags' is not defined"
          ]
        }
      ]
    },
    {
      "cell_type": "code",
      "metadata": {
        "id": "Fr4pNLLtkDmt"
      },
      "source": [
        "lister_list=doc.find_all('tbody',attrs= {'class': 'lister-list'})"
      ],
      "execution_count": 17,
      "outputs": []
    },
    {
      "cell_type": "code",
      "metadata": {
        "colab": {
          "base_uri": "https://localhost:8080/"
        },
        "id": "oMm7WA4aktUS",
        "outputId": "d31a3729-3c79-43a5-ec10-bec5777689c2"
      },
      "source": [
        "len(lister_list)"
      ],
      "execution_count": 18,
      "outputs": [
        {
          "output_type": "execute_result",
          "data": {
            "text/plain": [
              "1"
            ]
          },
          "metadata": {},
          "execution_count": 18
        }
      ]
    },
    {
      "cell_type": "code",
      "metadata": {
        "id": "bNYCpOdskwKJ"
      },
      "source": [
        "lister_list"
      ],
      "execution_count": null,
      "outputs": []
    },
    {
      "cell_type": "code",
      "metadata": {
        "id": "K7Kfyj3pmov4"
      },
      "source": [
        "#creating an empty list, so that we can append the values\n",
        "movie_name = []\n",
        "year = []\n",
        "time = []\n",
        "rating = []\n",
        "metascore = []\n",
        "votes = []\n",
        "gross = []\n",
        "#Note: These three list are added recently, Not explained in the video\n",
        "description = []\n",
        "Director = []\n",
        "Stars = []"
      ],
      "execution_count": 20,
      "outputs": []
    },
    {
      "cell_type": "code",
      "metadata": {
        "id": "36hB4D1_fXLh",
        "colab": {
          "base_uri": "https://localhost:8080/",
          "height": 225
        },
        "outputId": "acea4c2d-ef52-45ba-91fb-f1de5b330d35"
      },
      "source": [
        "for store in topic_title_tags:\n",
        "    name = store.table.tbody.td.a.text\n",
        "    #movie_name.append(name)\n",
        "    name"
      ],
      "execution_count": 21,
      "outputs": [
        {
          "output_type": "error",
          "ename": "NameError",
          "evalue": "ignored",
          "traceback": [
            "\u001b[0;31m---------------------------------------------------------------------------\u001b[0m",
            "\u001b[0;31mNameError\u001b[0m                                 Traceback (most recent call last)",
            "\u001b[0;32m<ipython-input-21-59661a6e4d21>\u001b[0m in \u001b[0;36m<module>\u001b[0;34m()\u001b[0m\n\u001b[0;32m----> 1\u001b[0;31m \u001b[0;32mfor\u001b[0m \u001b[0mstore\u001b[0m \u001b[0;32min\u001b[0m \u001b[0mtopic_title_tags\u001b[0m\u001b[0;34m:\u001b[0m\u001b[0;34m\u001b[0m\u001b[0;34m\u001b[0m\u001b[0m\n\u001b[0m\u001b[1;32m      2\u001b[0m     \u001b[0mname\u001b[0m \u001b[0;34m=\u001b[0m \u001b[0mstore\u001b[0m\u001b[0;34m.\u001b[0m\u001b[0mtable\u001b[0m\u001b[0;34m.\u001b[0m\u001b[0mtbody\u001b[0m\u001b[0;34m.\u001b[0m\u001b[0mtd\u001b[0m\u001b[0;34m.\u001b[0m\u001b[0ma\u001b[0m\u001b[0;34m.\u001b[0m\u001b[0mtext\u001b[0m\u001b[0;34m\u001b[0m\u001b[0;34m\u001b[0m\u001b[0m\n\u001b[1;32m      3\u001b[0m     \u001b[0;31m#movie_name.append(name)\u001b[0m\u001b[0;34m\u001b[0m\u001b[0;34m\u001b[0m\u001b[0;34m\u001b[0m\u001b[0m\n\u001b[1;32m      4\u001b[0m     \u001b[0mname\u001b[0m\u001b[0;34m\u001b[0m\u001b[0;34m\u001b[0m\u001b[0m\n",
            "\u001b[0;31mNameError\u001b[0m: name 'topic_title_tags' is not defined"
          ]
        }
      ]
    },
    {
      "cell_type": "code",
      "metadata": {
        "id": "DHxq9AcfiwQx"
      },
      "source": [
        "for tr in doc.find_all('tr'):\n",
        "    data = tr.find_all('td')\n",
        "    name=doc.select('tr > td')[1].get_text(strip=True)\n",
        "    movie_name.append(name)"
      ],
      "execution_count": null,
      "outputs": []
    },
    {
      "cell_type": "code",
      "metadata": {
        "id": "RtXqvCXknMUW"
      },
      "source": [
        "for td in doc.select('table > tbody > tr > td:nth-child(1)'):\n",
        "    print(td.text)"
      ],
      "execution_count": null,
      "outputs": []
    },
    {
      "cell_type": "code",
      "metadata": {
        "id": "igvRmvjap52W"
      },
      "source": [
        "table=doc.find(\"table\", {'class':'chart full-width'})"
      ],
      "execution_count": null,
      "outputs": []
    },
    {
      "cell_type": "code",
      "metadata": {
        "id": "dFGBu6f_mFFH"
      },
      "source": [
        "tbody = table.find('tbody')"
      ],
      "execution_count": null,
      "outputs": []
    },
    {
      "cell_type": "code",
      "metadata": {
        "id": "LjWWQ_YKqdfX"
      },
      "source": [
        "tbody"
      ],
      "execution_count": null,
      "outputs": []
    },
    {
      "cell_type": "code",
      "metadata": {
        "id": "r4ZQg6F8qNPY"
      },
      "source": [
        "trs = tbody.find_all('tr')"
      ],
      "execution_count": null,
      "outputs": []
    },
    {
      "cell_type": "code",
      "metadata": {
        "id": "AajlS5_MqhHu"
      },
      "source": [
        "trs"
      ],
      "execution_count": null,
      "outputs": []
    },
    {
      "cell_type": "code",
      "metadata": {
        "id": "uIh6CCRGsuG4"
      },
      "source": [
        "for table in doc.findAll('table'):\n",
        "  rows = table.findAll('tr')\n",
        "  for tr in rows:\n",
        "    tds = tr.findAll('td')\n",
        "    for td in tds:\n",
        "\t\t    name  = td.text\n",
        "\t\t    #name = []\n",
        "\t\t    #name.append(name_tag)\n",
        "\t\t    print(name)"
      ],
      "execution_count": null,
      "outputs": []
    },
    {
      "cell_type": "code",
      "metadata": {
        "id": "1AXBvD0EwEWu"
      },
      "source": [
        ".append(td.text)"
      ],
      "execution_count": null,
      "outputs": []
    },
    {
      "cell_type": "code",
      "metadata": {
        "id": "5S_K56mBgqRc"
      },
      "source": [
        "len(data)"
      ],
      "execution_count": null,
      "outputs": []
    },
    {
      "cell_type": "code",
      "metadata": {
        "id": "6FSWCpQMjcMw"
      },
      "source": [
        "data"
      ],
      "execution_count": null,
      "outputs": []
    },
    {
      "cell_type": "markdown",
      "metadata": {
        "id": "hArFaG7KxZ3t"
      },
      "source": [
        "# Scraping\n",
        "# '"
      ]
    },
    {
      "cell_type": "code",
      "metadata": {
        "id": "xXYCB7Atxfc1"
      },
      "source": [
        ""
      ],
      "execution_count": null,
      "outputs": []
    },
    {
      "cell_type": "code",
      "metadata": {
        "id": "LjUjneGz6SOz"
      },
      "source": [
        "#ranking of movies starting from 1 to 250\n",
        "\n",
        "rank=[]\n",
        "\n",
        "Ranking= [b.attrs.get('data-value') for b in doc.select('td.posterColumn span[name=rk]')]\n",
        "rank.append(Ranking)\n",
        "rank"
      ],
      "execution_count": null,
      "outputs": []
    },
    {
      "cell_type": "code",
      "metadata": {
        "id": "0J96KQWoJB-h",
        "colab": {
          "base_uri": "https://localhost:8080/"
        },
        "outputId": "827e256a-5bc3-4d3e-9e17-6e0be2a5d9de"
      },
      "source": [
        "type(rank)"
      ],
      "execution_count": 23,
      "outputs": [
        {
          "output_type": "execute_result",
          "data": {
            "text/plain": [
              "list"
            ]
          },
          "metadata": {},
          "execution_count": 23
        }
      ]
    },
    {
      "cell_type": "code",
      "metadata": {
        "id": "DOG22z5n7fix"
      },
      "source": [
        "#imbd rating\n",
        "\n",
        "# <span name=\"ir\" data-value=\"9.220174873516202\"></span>\n",
        "ratings = [b.attrs.get('data-value') for b in doc.select('td.posterColumn span[name=ir]')]\n",
        "ratings"
      ],
      "execution_count": null,
      "outputs": []
    },
    {
      "cell_type": "code",
      "metadata": {
        "id": "vrISwhbFDKei"
      },
      "source": [
        "#Number of Votes\n",
        "\n",
        "#<span name=\"nv\" data-value=\"2420373\"></span>\n",
        "votes = [b.attrs.get('data-value') for b in doc.select('td.posterColumn span[name=nv]')]\n",
        "votes\n"
      ],
      "execution_count": null,
      "outputs": []
    },
    {
      "cell_type": "code",
      "metadata": {
        "id": "0i5BkeOt_mNi"
      },
      "source": [
        "#link\n",
        "base_url = 'https://www.imdb.com'\n",
        "\n",
        "links = [base_url + a.attrs.get('href') for a in doc.select('td.titleColumn a')]\n",
        "links"
      ],
      "execution_count": null,
      "outputs": []
    },
    {
      "cell_type": "code",
      "metadata": {
        "id": "UZZ4EQo8DzYf"
      },
      "source": [
        "movies = doc.select('td.titleColumn')\n",
        "crew = [a.attrs.get('title') for a in doc.select('td.titleColumn a')]"
      ],
      "execution_count": 27,
      "outputs": []
    },
    {
      "cell_type": "code",
      "metadata": {
        "id": "5K_1SIFqx9n0"
      },
      "source": [
        "imdb = []"
      ],
      "execution_count": 28,
      "outputs": []
    },
    {
      "cell_type": "code",
      "metadata": {
        "id": "MplaXYKD0EKd"
      },
      "source": [
        "import re"
      ],
      "execution_count": 29,
      "outputs": []
    },
    {
      "cell_type": "code",
      "metadata": {
        "id": "pVe7aBokEH1e"
      },
      "source": [
        "# Store each item into dictionary (data), then put those into a list (imdb)\n",
        "for index in range(0, len(movies)):\n",
        "    # Seperate movie into: 'place', 'title', 'year'\n",
        "    movie_string = movies[index].get_text()\n",
        "    movie = (' '.join(movie_string.split()).replace('.', ''))\n",
        "    movie_title = movie[len(str(index))+1:-7]\n",
        "    year = re.search('\\((.*?)\\)', movie_string).group(1)\n",
        "    place = movie[:len(str(index))-(len(movie))]\n",
        "    movie_dict = {\n",
        "        #\"Rank\": rank[index],\n",
        "        \"rank\": place,\n",
        "        \"movie_title\": movie_title,\n",
        "            \"year\": year,\n",
        "            \"star_cast\": crew[index]\n",
        "}\n",
        "    imdb.append(movie_dict)"
      ],
      "execution_count": 30,
      "outputs": []
    },
    {
      "cell_type": "code",
      "metadata": {
        "id": "aBo6C1q4E7E_"
      },
      "source": [
        "import pandas as pd\n",
        "\n",
        "df=pd.DataFrame(imdb)"
      ],
      "execution_count": 31,
      "outputs": []
    },
    {
      "cell_type": "code",
      "metadata": {
        "id": "LjY5atZgH0Nn"
      },
      "source": [
        "df"
      ],
      "execution_count": null,
      "outputs": []
    },
    {
      "cell_type": "code",
      "metadata": {
        "id": "G1hB4ao_JVw2"
      },
      "source": [
        "df['rating'] = ratings\n",
        "df['votes']= votes\n",
        "df['link'] = links"
      ],
      "execution_count": 33,
      "outputs": []
    },
    {
      "cell_type": "code",
      "metadata": {
        "id": "Qh_4sJ3XL6Mt"
      },
      "source": [
        "df\n"
      ],
      "execution_count": null,
      "outputs": []
    },
    {
      "cell_type": "code",
      "metadata": {
        "id": "MM_ag8g4Qqqg"
      },
      "source": [
        "links"
      ],
      "execution_count": null,
      "outputs": []
    },
    {
      "cell_type": "markdown",
      "metadata": {
        "id": "J9-RC3_sEp7t"
      },
      "source": [
        "## Create CSV file(s) with the extracted information"
      ]
    },
    {
      "cell_type": "code",
      "metadata": {
        "id": "Q92ynIDM0uqU"
      },
      "source": [
        "df.to_csv('top_250_movies.csv')\n"
      ],
      "execution_count": 37,
      "outputs": []
    },
    {
      "cell_type": "markdown",
      "metadata": {
        "id": "i8KPJMvhSNuz"
      },
      "source": [
        "## Getting information out of a topic page"
      ]
    },
    {
      "cell_type": "code",
      "metadata": {
        "id": "Po0k7cahSR6F"
      },
      "source": [
        "movie_page_url = links[0]"
      ],
      "execution_count": null,
      "outputs": []
    },
    {
      "cell_type": "code",
      "metadata": {
        "id": "myocyrrcSaQj"
      },
      "source": [
        "movie_page_url"
      ],
      "execution_count": null,
      "outputs": []
    },
    {
      "cell_type": "code",
      "metadata": {
        "id": "Goru-L--S5Uq"
      },
      "source": [
        "response = requests.get(movie_page_url)"
      ],
      "execution_count": null,
      "outputs": []
    },
    {
      "cell_type": "code",
      "metadata": {
        "id": "Jzhf9DN8S8xy"
      },
      "source": [
        "response.status_code"
      ],
      "execution_count": null,
      "outputs": []
    },
    {
      "cell_type": "code",
      "metadata": {
        "id": "E_a7SYfnTD6D"
      },
      "source": [
        "len(response.text)"
      ],
      "execution_count": null,
      "outputs": []
    },
    {
      "cell_type": "code",
      "metadata": {
        "id": "IN4j_rOQTOES"
      },
      "source": [
        "movie_doc=BeautifulSoup(response.text, 'html.parser')"
      ],
      "execution_count": null,
      "outputs": []
    },
    {
      "cell_type": "code",
      "metadata": {
        "id": "fFTgI6MlU7Dl"
      },
      "source": [
        "a_tags = movie_doc.find_all('a', attrs={'class':\"GenresAndPlot__GenreChip-cum89p-3 fzmeux ipc-chip ipc-chip--on-baseAlt\"})"
      ],
      "execution_count": null,
      "outputs": []
    },
    {
      "cell_type": "code",
      "metadata": {
        "id": "gSoT3Wg4VIk4"
      },
      "source": [
        "a_tags"
      ],
      "execution_count": null,
      "outputs": []
    },
    {
      "cell_type": "code",
      "metadata": {
        "id": "QTwlFL69VE2i"
      },
      "source": [
        "span_tags = a_tags[0].find_all('span')\n",
        "span_tags"
      ],
      "execution_count": null,
      "outputs": []
    },
    {
      "cell_type": "code",
      "metadata": {
        "id": "rzSVQjInS_cz"
      },
      "source": [
        "span_tags"
      ],
      "execution_count": null,
      "outputs": []
    },
    {
      "cell_type": "code",
      "metadata": {
        "id": "WsseWgK3YiEJ"
      },
      "source": [
        "span_tags[0].text.strip()"
      ],
      "execution_count": null,
      "outputs": []
    },
    {
      "cell_type": "code",
      "metadata": {
        "id": "FtvpP0mPZAei"
      },
      "source": [
        "span_tags = a_tags[1].find_all('span')"
      ],
      "execution_count": null,
      "outputs": []
    },
    {
      "cell_type": "code",
      "metadata": {
        "id": "x9mv0kHbYxFp"
      },
      "source": [
        "span_tags[0].text.strip()"
      ],
      "execution_count": null,
      "outputs": []
    },
    {
      "cell_type": "code",
      "metadata": {
        "id": "2T0IZqNGErrV"
      },
      "source": [
        "div_tags = movie_doc.find_all('div', attrs={'class':\"TitleBlock__TitleMetaDataContainer-sc-1nlhx7j-2 hWHMKr\"})"
      ],
      "execution_count": null,
      "outputs": []
    },
    {
      "cell_type": "code",
      "metadata": {
        "id": "FrL9nKtKVZ0H"
      },
      "source": [
        "div_tags"
      ],
      "execution_count": null,
      "outputs": []
    },
    {
      "cell_type": "code",
      "metadata": {
        "id": "p4Ecit5CGw7B"
      },
      "source": [
        "li_tags = div_tags[0].find_all('li')\n",
        "li_tags"
      ],
      "execution_count": null,
      "outputs": []
    },
    {
      "cell_type": "code",
      "metadata": {
        "id": "YXwAVXIZG9m-"
      },
      "source": [
        "li_tags[1].text.strip()"
      ],
      "execution_count": null,
      "outputs": []
    },
    {
      "cell_type": "code",
      "metadata": {
        "id": "wYzyNYmCPMiO"
      },
      "source": [
        "def get_movie_info(a_tag, div_tag):\n",
        "  # returns all the required info about a movie\n",
        "  span_tags1 = a_tag.find_all('span')\n",
        "  genre1=span_tags1[0].text.strip()\n",
        "  # span_tags2 = a_tag1.find_all('span')\n",
        "  # genre2= span_tags2[0].text.strip()\n",
        "  li_tags = div_tag.find_all('li')\n",
        "  length_of_film=li_tags[1].text.strip()\n",
        "  return genre1, length_of_film"
      ],
      "execution_count": null,
      "outputs": []
    },
    {
      "cell_type": "code",
      "metadata": {
        "id": "NlajhqVcU7Nx"
      },
      "source": [
        "get_movie_info(a_tags[0], div_tags[0])"
      ],
      "execution_count": null,
      "outputs": []
    },
    {
      "cell_type": "code",
      "metadata": {
        "id": "Cai_P_Fptn8v"
      },
      "source": [
        "def get_topic_page(links):\n",
        "  # Download the page\n",
        "  response = requests.get(links)\n",
        "\n",
        "  # Check successful response\n",
        "  if response.status_code != 200:\n",
        "        raise Exception('Failed to load page {}'.format(links))\n",
        "\n",
        "  movie_doc = BeautifulSoup(response.text, 'html.parser')\n",
        "  return movie_doc"
      ],
      "execution_count": null,
      "outputs": []
    },
    {
      "cell_type": "code",
      "metadata": {
        "id": "AFFm4vnDrfCY"
      },
      "source": [
        "def get_movie_url(movie_doc):\n",
        "\n",
        "#get a tags\n",
        "  a_tags = movie_doc.find_all('a', attrs={'class':\"GenresAndPlot__GenreChip-cum89p-3 fzmeux ipc-chip ipc-chip--on-baseAlt\"})\n",
        "\n",
        "#get div tags\n",
        "  div_tags = movie_doc.find_all('div', attrs={'class':\"TitleBlock__TitleMetaDataContainer-sc-1nlhx7j-2 hWHMKr\"})\n",
        "\n",
        "\n",
        "  movie_dict = {\n",
        "    'genre1' : [],\n",
        "    'genre2' : [],\n",
        "    'length_of_movie' : []}\n",
        "\n",
        "  a_tag = a_tags[0]\n",
        "  a_tag1 = a_tags[1]\n",
        "  div_tag = div_tags[0]\n",
        "\n",
        "  for i in range(len(links)):\n",
        "    movie_info = get_movie_info(a_tag, a_tag1, div_tag)\n",
        "    movie_dict['genre1'].append(movie_info[0])\n",
        "    movie_dict['genre2'].append(movie_info[1])\n",
        "    movie_dict['length_of_movie'].append(movie_info[2])\n",
        "  return pd.DataFrame(movie_dict)"
      ],
      "execution_count": null,
      "outputs": []
    },
    {
      "cell_type": "code",
      "metadata": {
        "id": "bGBwbqsK5oB-"
      },
      "source": [
        "a_tags = movie_doc.find_all('a', attrs={'class':\"GenresAndPlot__GenreChip-cum89p-3 fzmeux ipc-chip ipc-chip--on-baseAlt\"})"
      ],
      "execution_count": null,
      "outputs": []
    },
    {
      "cell_type": "code",
      "metadata": {
        "id": "l-2EKnPQ6Dd2"
      },
      "source": [
        "a_tags"
      ],
      "execution_count": null,
      "outputs": []
    },
    {
      "cell_type": "code",
      "metadata": {
        "id": "uah9hZhbxER7"
      },
      "source": [
        "  \n",
        "  movie_page_url = links[0]       #1st url in the list\n",
        "  response = requests.get(movie_page_url)\n",
        "  movie_doc = BeautifulSoup(response.text, 'html.parser')\n",
        "  # Check successful response\n",
        "  # if response.status_code != 200:\n",
        "  #       raise Exception('Failed to load page {}'.format(links))\n",
        "\n",
        "\n",
        "  #get a tags\n",
        "  a_tags = movie_doc.find_all('a', attrs={'class':\"GenresAndPlot__GenreChip-cum89p-3 fzmeux ipc-chip ipc-chip--on-baseAlt\"})\n",
        "\n",
        "  #get div tags\n",
        "  div_tags = movie_doc.find_all('div', attrs={'class':\"TitleBlock__TitleMetaDataContainer-sc-1nlhx7j-2 hWHMKr\"})\n",
        "\n",
        "  movie_dict = {\n",
        "    'genre1' : [],\n",
        "    'length_of_movie' : []}\n",
        "\n",
        "  a_tag = a_tags[0]\n",
        "  #a_tag1 = a_tags[1]\n",
        "  div_tag = div_tags[0]\n",
        "\n",
        "  movie_info = get_movie_info(a_tag,div_tag)\n",
        "  movie_dict['genre1'].append(movie_info[0])\n",
        "  movie_dict['length_of_movie'].append(movie_info[1])\n",
        "  \n",
        "\n"
      ],
      "execution_count": null,
      "outputs": []
    },
    {
      "cell_type": "code",
      "metadata": {
        "id": "c3HzLoIR5Wz6"
      },
      "source": [
        "movie_dict"
      ],
      "execution_count": null,
      "outputs": []
    },
    {
      "cell_type": "markdown",
      "metadata": {
        "id": "ROFGzKsHO4DR"
      },
      "source": [
        ""
      ]
    },
    {
      "cell_type": "code",
      "metadata": {
        "id": "PZhTZYdss1rm"
      },
      "source": [
        "\n",
        "def scrape_topic(link, path):\n",
        "    if os.path.exists(path):\n",
        "        print(\"The file {} already exists. Skipping...\".format(path))\n",
        "        return\n",
        "    topic_df = get_topic_repos(get_topic_page(links))\n",
        "    topic_df.to_csv(path, index=None)"
      ],
      "execution_count": null,
      "outputs": []
    },
    {
      "cell_type": "code",
      "metadata": {
        "id": "3H9LWn7Tsoxn"
      },
      "source": [
        ""
      ],
      "execution_count": null,
      "outputs": []
    },
    {
      "cell_type": "code",
      "metadata": {
        "id": "fKGfI10NsRrj"
      },
      "source": [
        "movie_info"
      ],
      "execution_count": null,
      "outputs": []
    },
    {
      "cell_type": "code",
      "metadata": {
        "id": "AagBH6TQF2DQ"
      },
      "source": [
        "\n",
        "\n",
        "topic_movie_dict = {\n",
        "    'genre1': [],\n",
        "    'genre2': [],\n",
        "    'length_of_movie': []\n",
        "}\n",
        "for i in range(len(a_tags)):\n",
        "  movie_info = get_movie_info(a_tags[0], div_tags[0])\n",
        "    topic_movie_dict['genre1'].append(movie_info[0])\n",
        "    topic_movie_dict['genre2'].append(movie_info[1])\n",
        "    topic_movie_dict['length_of_movie'].append(movie_info[2])\n"
      ],
      "execution_count": null,
      "outputs": []
    },
    {
      "cell_type": "code",
      "metadata": {
        "id": "LeCvXXNzdoTZ"
      },
      "source": [
        "def get_topic_page(links):\n",
        "  # Download the page\n",
        "  response = requests.get(links)\n",
        "\n",
        "  # Check successful response\n",
        "  if response.status_code != 200:\n",
        "        raise Exception('Failed to load page {}'.format(links))\n",
        "\n",
        "  movie_doc = BeautifulSoup(response.text, 'html.parser')\n",
        "  return movie_doc"
      ],
      "execution_count": null,
      "outputs": []
    },
    {
      "cell_type": "code",
      "metadata": {
        "id": "HZxc1XaUeFU6"
      },
      "source": [
        "def get_movie_info(a_tag, div_tag):\n",
        "  # returns all the required info about a movie\n",
        "  span_tags1 = a_tag.find_all('span')\n",
        "  genre1=span_tags1[0].text.strip()\n",
        "  # span_tags2 = a_tag1.find_all('span')\n",
        "  # genre2= span_tags2[0].text.strip()\n",
        "  li_tags = div_tag.find_all('li')\n",
        "  length_of_film=li_tags[1].text.strip()\n",
        "  return genre1, length_of_film"
      ],
      "execution_count": null,
      "outputs": []
    },
    {
      "cell_type": "code",
      "metadata": {
        "id": "jAZl7JHqEzc8"
      },
      "source": [
        "def get_topic_movie(movie_doc):\n",
        "\n",
        "\n",
        "  #get a tags\n",
        "  a_tags = movie_doc.find_all('a', attrs={'class':\"GenresAndPlot__GenreChip-cum89p-3 fzmeux ipc-chip ipc-chip--on-baseAlt\"})\n",
        "\n",
        "  #get div tags\n",
        "  div_tags = movie_doc.find_all('div', attrs={'class':\"TitleBlock__TitleMetaDataContainer-sc-1nlhx7j-2 hWHMKr\"})\n",
        "\n",
        "  topic_movie_dict = {\n",
        "        'genre1': [],\n",
        "        'length_of_movie': []\n",
        "        }\n",
        "\n",
        "    movie_info = get_movie_info(a_tags[0], div_tags[0])\n",
        "    topic_movie_dict['genre1'].append(movie_info[0])\n",
        "    #topic_movie_dict['genre2'].append(movie_info[1])\n",
        "    topic_movie_dict['length_of_movie'].append(movie_info[1])\n",
        "  return pd.DataFrame(topic_movie_dict)"
      ],
      "execution_count": null,
      "outputs": []
    },
    {
      "cell_type": "code",
      "metadata": {
        "id": "J8Z2Cuncno6t"
      },
      "source": [
        "! pip install fake-useragent"
      ],
      "execution_count": null,
      "outputs": []
    },
    {
      "cell_type": "code",
      "metadata": {
        "id": "gKR5HfCanQLf"
      },
      "source": [
        "import requests\n",
        "from fake_useragent import UserAgent\n",
        "import bs4\n",
        "## initializing the UserAgent object\n",
        "user_agent = UserAgent()\n",
        "\n",
        "## starting the loop\n",
        "for url in links:\n",
        "    ## getting the reponse from the page using get method of requests module\n",
        "    page = requests.get(url, headers={\"user-agent\": user_agent.chrome})\n",
        "\n",
        "    ## storing the content of the page in a variable\n",
        "    html = page.content\n",
        "\n",
        "    ## creating BeautifulSoup object\n",
        "    soup = bs4.BeautifulSoup(html, \"html.parser\")\n",
        "\n",
        "    ## Then parse the HTML, extract any data\n",
        "    ## write it to a file"
      ],
      "execution_count": null,
      "outputs": []
    },
    {
      "cell_type": "code",
      "metadata": {
        "id": "emOh0R2IVZP2"
      },
      "source": [
        "url4 = links[4]\n",
        "url4\n"
      ],
      "execution_count": null,
      "outputs": []
    },
    {
      "cell_type": "code",
      "metadata": {
        "id": "f-G2uElVf6zh"
      },
      "source": [
        "movie4_doc = get_topic_page(url4)\n"
      ],
      "execution_count": null,
      "outputs": []
    },
    {
      "cell_type": "code",
      "metadata": {
        "id": "3MLuQJYGjB_f"
      },
      "source": [
        "movie4_topic = get_topic_movie(movie4_doc)"
      ],
      "execution_count": null,
      "outputs": []
    },
    {
      "cell_type": "code",
      "metadata": {
        "id": "3j_Dwz3Gjk7I"
      },
      "source": [
        "movie4_topic_info = get_movie_info(movie4_topic)"
      ],
      "execution_count": null,
      "outputs": []
    },
    {
      "cell_type": "markdown",
      "metadata": {
        "id": "Azo_Fsyk_d2n"
      },
      "source": [
        "## final\n"
      ]
    },
    {
      "cell_type": "code",
      "metadata": {
        "id": "GFKGCEMxAAOG"
      },
      "source": [
        "import requests\n",
        "from bs4 import BeautifulSoup\n",
        "\n",
        "def get_movie_info(a_tag, div_tag):\n",
        "    span_tags1 = a_tag.find_all(\"span\")\n",
        "    genre = span_tags1[0].text.strip()\n",
        "    li_tag = div_tag.find_all('li')\n",
        "    length_of_film = li_tag[1].text.strip()\n",
        "    return genre, length_of_film\n",
        "\n",
        "    movie_dict = {'genre1': [], 'length_of_movie': []}\n",
        "for movie_page_url in links:\n",
        "    response = requests.get(movie_page_url)\n",
        "    movie_doc = BeautifulSoup(response.content, \"html.parser\")\n",
        "\n",
        "    # get a tags\n",
        "    a_tags = movie_doc.find_all(\n",
        "        \"a\",\n",
        "        attrs={\n",
        "            \"class\": \"GenresAndPlot__GenreChip-cum89p-3 fzmeux ipc-chip ipc-chip--on-baseAlt\"\n",
        "        },\n",
        "    )\n",
        "\n",
        "    # get div tags\n",
        "    div_tags = movie_doc.find_all(\n",
        "        \"div\",\n",
        "        attrs={\n",
        "            \"class\": \"TitleBlock__TitleMetaDataContainer-sc-1nlhx7j-2 hWHMKr\"\n",
        "        },\n",
        "    )\n",
        "\n",
        "    a_tag = a_tags[0]\n",
        "    div_tag = div_tags[0]\n",
        "\n",
        "    movie_info = get_movie_info(a_tag, div_tag)\n",
        "    movie_dict['genre1'].append(movie_info[0])\n",
        "    movie_dict['length_of_movie'].append(movie_info[1])\n",
        "\n",
        "df = pd.DataFrame(movie_dict)\n",
        "print(df)"
      ],
      "execution_count": null,
      "outputs": []
    },
    {
      "cell_type": "code",
      "metadata": {
        "id": "TLioeT84Ias7"
      },
      "source": [
        "df.head(50)"
      ],
      "execution_count": null,
      "outputs": []
    },
    {
      "cell_type": "markdown",
      "metadata": {
        "id": "ZgUsAdPWBVLJ"
      },
      "source": [
        ""
      ]
    }
  ]
}